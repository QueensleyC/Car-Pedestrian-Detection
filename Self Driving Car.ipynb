{
 "cells": [
  {
   "cell_type": "code",
   "execution_count": 1,
   "id": "7ae2f57f",
   "metadata": {},
   "outputs": [],
   "source": [
    "import cv2\n",
    "\n",
    "import matplotlib.pyplot as plt\n",
    "\n",
    "from random import randrange"
   ]
  },
  {
   "cell_type": "code",
   "execution_count": 2,
   "id": "102a15c9",
   "metadata": {},
   "outputs": [],
   "source": [
    "car_tracker = cv2.CascadeClassifier('car_detector.xml')\n",
    "pedestrain_tracker = cv2.CascadeClassifier(cv2.data.haarcascades + 'haarcascade_fullbody.xml')"
   ]
  },
  {
   "cell_type": "code",
   "execution_count": 3,
   "id": "2cb63ed6",
   "metadata": {},
   "outputs": [
    {
     "data": {
      "text/plain": [
       "'c:\\\\Users\\\\Eby\\\\anaconda3\\\\lib\\\\site-packages\\\\cv2\\\\data\\\\'"
      ]
     },
     "execution_count": 3,
     "metadata": {},
     "output_type": "execute_result"
    }
   ],
   "source": [
    "cv2.data.haarcascades"
   ]
  },
  {
   "cell_type": "code",
   "execution_count": 4,
   "id": "73aa4ac4",
   "metadata": {},
   "outputs": [],
   "source": [
    "def detect_car_pedestrain(video):\n",
    "    \n",
    "    # Read Video\n",
    "    vid = cv2.VideoCapture(video)\n",
    "    \n",
    "    while True:\n",
    "        \n",
    "        # Read the current frame\n",
    "        successful_frame_read, frame = vid.read()\n",
    "\n",
    "        if successful_frame_read:\n",
    "            # Convert video to grayscale\n",
    "            grayscaled_frame = cv2.cvtColor(frame, cv2.COLOR_BGR2GRAY)\n",
    "        \n",
    "        else:\n",
    "            break\n",
    "\n",
    "        #  Detect cars\n",
    "        cars = car_tracker.detectMultiScale(grayscaled_frame)\n",
    "        \n",
    "        #  Detect pedestrain\n",
    "        pedestrain = pedestrain_tracker.detectMultiScale(grayscaled_frame)\n",
    "\n",
    "        # Draw rectangles around the cars\n",
    "        for (x,y,w,h) in cars:\n",
    "            cv2.rectangle(frame, (x+1, y+2), (x+w, y+h), (255,0,0), 2)\n",
    "            cv2.rectangle(frame, (x, y), (x+w, y+h), (0,0,255), 2)\n",
    "\n",
    "        # Draw rectangles around the pedestrains\n",
    "        for (x,y,w,h) in pedestrain:\n",
    "            cv2.rectangle(frame, (x, y), (x+w, y+h), (0,255,0), 2)\n",
    "        \n",
    "        # Display the video with the cars and pedestrains spotted\n",
    "        cv2.imshow(\"Self Driving Car\", frame)\n",
    "        \n",
    "        # Listen for a key press for 1 millisecond, then move on\n",
    "        key = cv2.waitKey(1)\n",
    "        \n",
    "        # Stop if 'Q' key is pressed\n",
    "        if key == 81 or key == 113:\n",
    "            break\n",
    "        \n",
    "    vid.release()\n",
    "        "
   ]
  },
  {
   "cell_type": "code",
   "execution_count": 5,
   "id": "24a6907a",
   "metadata": {},
   "outputs": [
    {
     "ename": "KeyboardInterrupt",
     "evalue": "",
     "output_type": "error",
     "traceback": [
      "\u001b[1;31m---------------------------------------------------------------------------\u001b[0m",
      "\u001b[1;31mKeyboardInterrupt\u001b[0m                         Traceback (most recent call last)",
      "Cell \u001b[1;32mIn[5], line 1\u001b[0m\n\u001b[1;32m----> 1\u001b[0m \u001b[43mdetect_car_pedestrain\u001b[49m\u001b[43m(\u001b[49m\u001b[38;5;124;43m\"\u001b[39;49m\u001b[38;5;124;43mDash Cam - Pedestrian.mp4\u001b[39;49m\u001b[38;5;124;43m\"\u001b[39;49m\u001b[43m)\u001b[49m\n",
      "Cell \u001b[1;32mIn[4], line 22\u001b[0m, in \u001b[0;36mdetect_car_pedestrain\u001b[1;34m(video)\u001b[0m\n\u001b[0;32m     19\u001b[0m cars \u001b[38;5;241m=\u001b[39m car_tracker\u001b[38;5;241m.\u001b[39mdetectMultiScale(grayscaled_frame)\n\u001b[0;32m     21\u001b[0m \u001b[38;5;66;03m#  Detect pedestrain\u001b[39;00m\n\u001b[1;32m---> 22\u001b[0m pedestrain \u001b[38;5;241m=\u001b[39m \u001b[43mpedestrain_tracker\u001b[49m\u001b[38;5;241;43m.\u001b[39;49m\u001b[43mdetectMultiScale\u001b[49m\u001b[43m(\u001b[49m\u001b[43mgrayscaled_frame\u001b[49m\u001b[43m)\u001b[49m\n\u001b[0;32m     24\u001b[0m \u001b[38;5;66;03m# Draw rectangles around the cars\u001b[39;00m\n\u001b[0;32m     25\u001b[0m \u001b[38;5;28;01mfor\u001b[39;00m (x,y,w,h) \u001b[38;5;129;01min\u001b[39;00m cars:\n",
      "\u001b[1;31mKeyboardInterrupt\u001b[0m: "
     ]
    }
   ],
   "source": [
    "detect_car_pedestrain(\"Dash Cam - Pedestrian.mp4\")"
   ]
  },
  {
   "cell_type": "code",
   "execution_count": null,
   "id": "6f8f601f",
   "metadata": {},
   "outputs": [],
   "source": []
  }
 ],
 "metadata": {
  "kernelspec": {
   "display_name": "Python 3 (ipykernel)",
   "language": "python",
   "name": "python3"
  },
  "language_info": {
   "codemirror_mode": {
    "name": "ipython",
    "version": 3
   },
   "file_extension": ".py",
   "mimetype": "text/x-python",
   "name": "python",
   "nbconvert_exporter": "python",
   "pygments_lexer": "ipython3",
   "version": "3.10.9"
  }
 },
 "nbformat": 4,
 "nbformat_minor": 5
}
